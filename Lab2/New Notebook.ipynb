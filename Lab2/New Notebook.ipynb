{
 "cells": [
  {
   "cell_type": "code",
   "execution_count": 1,
   "metadata": {
    "scrolled": false
   },
   "outputs": [
    {
     "data": {
      "text/html": [
       "<h2>Output</h2>a Layer object<h2>Messages</h2>Start Time: Wednesday, October 27, 2021 15:32:57<br/>Succeeded at Wednesday, October 27, 2021 15:32:57 (Elapsed Time: 0.07 seconds)<br/><style>.rendered_html td, .rendered_html th {text-align: left;}.rendered_html tbody {border: 1px solid black;}</style>"
      ],
      "text/plain": [
       "<Result '4342-12-05_LasDataset'>"
      ]
     },
     "execution_count": 1,
     "metadata": {},
     "output_type": "execute_result"
    }
   ],
   "source": [
    "arcpy.management.MakeLasDatasetLayer(r\"C:\\Users\\rosem\\Downloads\\4342-12-05.las\", \"4342-12-05_LasDataset\", None, None, \"INCLUDE_UNFLAGGED\", \"INCLUDE_SYNTHETIC\", \"INCLUDE_KEYPOINT\", \"EXCLUDE_WITHHELD\", None, \"INCLUDE_OVERLAP\")"
   ]
  },
  {
   "cell_type": "code",
   "execution_count": null,
   "metadata": {},
   "outputs": [],
   "source": [
    "with arcpy.EnvManager(scratchWorkspace=r\"C:\\Users\\rosem\\Documents\\ArcGIS\\Projects\\GIS5571Lab2\\GIS5571Lab2.gdb\", workspace=r\"C:\\Users\\rosem\\Documents\\ArcGIS\\Projects\\GIS5571Lab2\\GIS5571Lab2.gdb\"):\n",
    "    arcpy.conversion.LasDatasetToRaster(\"4342-12-05_LasDataset\", r\"c:\\Users\\rosem\\documents\\ArcGIS\\Projects\\gis5571lab2\\gis5571lab2.gdb\\Las_DEM\", \"ELEVATION\", \"BINNING AVERAGE LINEAR\", \"FLOAT\", \"CELLSIZE\", 10, 1)"
   ]
  },
  {
   "cell_type": "code",
   "execution_count": 3,
   "metadata": {
    "scrolled": false
   },
   "outputs": [
    {
     "ename": "ExecuteError",
     "evalue": "Failed to execute. Parameters are not valid.\nERROR 000840: The value is not a LAS Dataset Layer.\nWARNING 000725: Output TIN: Dataset C:\\Users\\rosem\\Documents\\ArcGIS\\Projects\\GIS5571Lab2\\Las_TIN already exists.\nFailed to execute (LasDatasetToTin).\n",
     "output_type": "error",
     "traceback": [
      "\u001b[0;31m---------------------------------------------------------------------------\u001b[0m\n\u001b[0;31mExecuteError\u001b[0m                              Traceback (most recent call last)",
      "In  \u001b[0;34m[3]\u001b[0m:\nLine \u001b[0;34m1\u001b[0m:     arcpy.ddd.LasDatasetToTin(\u001b[33m\"\u001b[39;49;00m\u001b[33m4342-12-05_LasDataset\u001b[39;49;00m\u001b[33m\"\u001b[39;49;00m, \u001b[33mr\u001b[39;49;00m\u001b[33m\"\u001b[39;49;00m\u001b[33mC:\u001b[39;49;00m\u001b[33m\\\u001b[39;49;00m\u001b[33mUsers\u001b[39;49;00m\u001b[33m\\\u001b[39;49;00m\u001b[33mrosem\u001b[39;49;00m\u001b[33m\\\u001b[39;49;00m\u001b[33mDocuments\u001b[39;49;00m\u001b[33m\\\u001b[39;49;00m\u001b[33mArcGIS\u001b[39;49;00m\u001b[33m\\\u001b[39;49;00m\u001b[33mProjects\u001b[39;49;00m\u001b[33m\\\u001b[39;49;00m\u001b[33mGIS5571Lab2\u001b[39;49;00m\u001b[33m\\\u001b[39;49;00m\u001b[33mLas_TIN\u001b[39;49;00m\u001b[33m\"\u001b[39;49;00m, \u001b[33m\"\u001b[39;49;00m\u001b[33mRANDOM\u001b[39;49;00m\u001b[33m\"\u001b[39;49;00m, \u001b[33m\"\u001b[39;49;00m\u001b[33mPERCENT\u001b[39;49;00m\u001b[33m\"\u001b[39;49;00m, \u001b[34m75\u001b[39;49;00m, \u001b[34m50000000\u001b[39;49;00m, \u001b[34m1\u001b[39;49;00m, \u001b[33m\"\u001b[39;49;00m\u001b[33mCLIP\u001b[39;49;00m\u001b[33m\"\u001b[39;49;00m)\n",
      "File \u001b[0;34mC:\\Program Files\\ArcGIS\\Pro\\Resources\\ArcPy\\arcpy\\ddd.py\u001b[0m, in \u001b[0;32mLasDatasetToTin\u001b[0m:\nLine \u001b[0;34m3597\u001b[0m:  \u001b[34mraise\u001b[39;49;00m e\n",
      "File \u001b[0;34mC:\\Program Files\\ArcGIS\\Pro\\Resources\\ArcPy\\arcpy\\ddd.py\u001b[0m, in \u001b[0;32mLasDatasetToTin\u001b[0m:\nLine \u001b[0;34m3594\u001b[0m:  retval = convertArcObjectToPythonObject(gp.LasDatasetToTin_3d(*gp_fixargs((in_las_dataset, out_tin, thinning_type, thinning_method, thinning_value, max_nodes, z_factor, clip_to_extent), \u001b[34mTrue\u001b[39;49;00m)))\n",
      "File \u001b[0;34mC:\\Program Files\\ArcGIS\\Pro\\Resources\\ArcPy\\arcpy\\geoprocessing\\_base.py\u001b[0m, in \u001b[0;32m<lambda>\u001b[0m:\nLine \u001b[0;34m511\u001b[0m:   \u001b[34mreturn\u001b[39;49;00m \u001b[34mlambda\u001b[39;49;00m *args: val(*gp_fixargs(args, \u001b[34mTrue\u001b[39;49;00m))\n",
      "\u001b[0;31mExecuteError\u001b[0m: Failed to execute. Parameters are not valid.\nERROR 000840: The value is not a LAS Dataset Layer.\nWARNING 000725: Output TIN: Dataset C:\\Users\\rosem\\Documents\\ArcGIS\\Projects\\GIS5571Lab2\\Las_TIN already exists.\nFailed to execute (LasDatasetToTin).\n\n\u001b[0;31m---------------------------------------------------------------------------\u001b[0m"
     ]
    }
   ],
   "source": [
    "arcpy.ddd.LasDatasetToTin(\"4342-12-05_LasDataset\", r\"C:\\Users\\rosem\\Documents\\ArcGIS\\Projects\\GIS5571Lab2\\Las_TIN\", \"RANDOM\", \"PERCENT\", 75, 50000000, 1, \"CLIP\")"
   ]
  },
  {
   "cell_type": "code",
   "execution_count": 4,
   "metadata": {
    "scrolled": true
   },
   "outputs": [
    {
     "ename": "IndexError",
     "evalue": "list index out of range",
     "output_type": "error",
     "traceback": [
      "\u001b[0;31m---------------------------------------------------------------------------\u001b[0m\n\u001b[0;31mIndexError\u001b[0m                                Traceback (most recent call last)",
      "In  \u001b[0;34m[4]\u001b[0m:\nLine \u001b[0;34m3\u001b[0m:     lyt = aprx.listLayouts(\u001b[33m\"\u001b[39;49;00m\u001b[33mLayout\u001b[39;49;00m\u001b[33m\"\u001b[39;49;00m)[\u001b[34m0\u001b[39;49;00m]\n",
      "\u001b[0;31mIndexError\u001b[0m: list index out of range\n\u001b[0;31m---------------------------------------------------------------------------\u001b[0m"
     ]
    }
   ],
   "source": [
    "import arcpy\n",
    "aprx = arcpy.mp.ArcGISProject(r\"C:\\Users\\rosem\\Documents\\ArcGIS\\Projects\\GIS5571Lab2\\GIS5571Lab2.aprx\")\n",
    "lyt = aprx.listLayouts(\"Layout\")[0]\n",
    "lyt.exportToPDF(r\"C:\\Users\\rosem\\Documents\\ArcGIS\\Projects\\GIS5571Lab2\", resolution = 300)"
   ]
  },
  {
   "cell_type": "code",
   "execution_count": null,
   "metadata": {},
   "outputs": [],
   "source": [
    "lyt2 = aprx.listLayouts(\"LasTIN_Layout\")\n",
    "lyt2.exportToPDF(r\"C:\\Users\\rosem\\Documents\\ArcGIS\\Projects\\GIS5571Lab2\\Layouts\\LasTIN_Layout.pdf\", resolution = 150)"
   ]
  }
 ],
 "metadata": {
  "kernelspec": {
   "display_name": "ArcGISPro",
   "language": "Python",
   "name": "python3"
  },
  "language_info": {
   "file_extension": ".py",
   "name": "python",
   "version": "3"
  }
 },
 "nbformat": 4,
 "nbformat_minor": 2
}
