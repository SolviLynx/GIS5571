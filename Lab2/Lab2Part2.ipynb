{
 "cells": [
  {
   "cell_type": "code",
   "execution_count": null,
   "metadata": {},
   "outputs": [],
   "source": [
    "import arcpy"
   ]
  },
  {
   "cell_type": "code",
   "execution_count": null,
   "metadata": {},
   "outputs": [],
   "source": [
    "arcpy.ddd.Slope(\"dem_1m_m\", r\"C:\\Users\\rosem\\Documents\\ArcGIS\\Projects\\Lab2Part2\\Lab2Part2.gdb\\Slope_dem_1m2\", \"DEGREE\", 1, \"PLANAR\", \"METER\")"
   ]
  },
  {
   "cell_type": "code",
   "execution_count": null,
   "metadata": {},
   "outputs": [],
   "source": [
    "arcpy.ddd.Slope(\"dem_1m_m\", r\"C:\\Users\\rosem\\Documents\\ArcGIS\\Projects\\Lab2Part2\\Lab2Part2.gdb\\Slope_dem_1m4\", \"DEGREE\", 1, \"PLANAR\", \"METER\")"
   ]
  },
  {
   "cell_type": "code",
   "execution_count": null,
   "metadata": {},
   "outputs": [],
   "source": [
    "arcpy.ddd.Slope(\"dem_1m_m\", r\"C:\\Users\\rosem\\Documents\\ArcGIS\\Projects\\Lab2Part2\\Lab2Part2.gdb\\Slope_dem_1m5\", \"DEGREE\", 1, \"PLANAR\", \"METER\")"
   ]
  },
  {
   "cell_type": "code",
   "execution_count": null,
   "metadata": {},
   "outputs": [],
   "source": [
    "arcpy.ddd.Slope(\"dem_1m_m\", r\"C:\\Users\\rosem\\Documents\\ArcGIS\\Projects\\Lab2Part2\\Lab2Part2.gdb\\Slope_dem_1m6\", \"DEGREE\", 1, \"PLANAR\", \"METER\")"
   ]
  },
  {
   "cell_type": "code",
   "execution_count": null,
   "metadata": {},
   "outputs": [],
   "source": [
    "arcpy.ddd.Slope(\"dem_1m_m\", r\"C:\\Users\\rosem\\Documents\\ArcGIS\\Projects\\Lab2Part2\\Lab2Part2.gdb\\Slope_dem_1m8\", \"DEGREE\", 1, \"PLANAR\", \"METER\")"
   ]
  },
  {
   "cell_type": "code",
   "execution_count": null,
   "metadata": {},
   "outputs": [],
   "source": [
    "arcpy.ddd.Slope(\"dem_1m_m\", r\"C:\\Users\\rosem\\Documents\\ArcGIS\\Projects\\Lab2Part2\\Lab2Part2.gdb\\Slope_dem_1m9\", \"DEGREE\", 1, \"PLANAR\", \"METER\")"
   ]
  },
  {
   "cell_type": "code",
   "execution_count": null,
   "metadata": {},
   "outputs": [],
   "source": [
    "arcpy.ddd.Slope(\"dem_1m_m\", r\"C:\\Users\\rosem\\Documents\\ArcGIS\\Projects\\Lab2Part2\\Lab2Part2.gdb\\Slope_dem_110\", \"DEGREE\", 1, \"PLANAR\", \"METER\")"
   ]
  },
  {
   "cell_type": "code",
   "execution_count": null,
   "metadata": {},
   "outputs": [],
   "source": [
    "arcpy.analysis.Buffer(\"NewStreets\", r\"C:\\Users\\rosem\\Documents\\ArcGIS\\Projects\\Lab2Part2\\Lab2Part2.gdb\\NewStreets_Buffer\", \"10 Meters\", \"FULL\", \"ROUND\", \"ALL\", None, \"PLANAR\")"
   ]
  },
  {
   "cell_type": "code",
   "execution_count": null,
   "metadata": {},
   "outputs": [],
   "source": [
    "arcpy.conversion.PolygonToRaster(\"NewStreets_Buffer\", \"OBJECTID\", r\"C:\\Users\\rosem\\Documents\\ArcGIS\\Projects\\Lab2Part2\\Lab2Part2.gdb\\NewStreets_Raster\", \"CELL_CENTER\", \"NONE\", 1, \"BUILD\")"
   ]
  },
  {
   "cell_type": "code",
   "execution_count": null,
   "metadata": {},
   "outputs": [],
   "source": [
    "arcpy.ddd.Reclassify(\"NewStreets_Raster\", \"Value\", \"0 1 10\", r\"C:\\Users\\rosem\\Documents\\ArcGIS\\Projects\\Lab2Part2\\Lab2Part2.gdb\\Reclass_NewS1\", \"DATA\")"
   ]
  },
  {
   "cell_type": "code",
   "execution_count": null,
   "metadata": {},
   "outputs": [],
   "source": [
    "arcpy.ddd.Reclassify(\"Slope_dem_1m2\", \"VALUE\", \"0 1.720000 11;1.720000 3.430000 10;3.430000 5.710000 9;5.710000 8.530000 8;8.530000 11.300000 7;11.300000 14.040000 6;14.040000 16.700000 5;16.700000 21.800000 4;21.800000 30.960000 3;30.960000 45 2;45 90 1\", r\"C:\\Users\\rosem\\Documents\\ArcGIS\\Projects\\Lab2Part2\\Lab2Part2.gdb\\Reclass_Slop2\", \"DATA\")"
   ]
  },
  {
   "cell_type": "code",
   "execution_count": null,
   "metadata": {},
   "outputs": [],
   "source": [
    "arcpy.ddd.Reclassify(\"Slope_dem_1m4\", \"VALUE\", \"0 1.720000 11;1.720000 3.430000 10;3.430000 5.710000 9;5.710000 8.530000 8;8.530000 11.300000 7;11.300000 14.040000 6;14.040000 16.700000 5;16.700000 21.800000 4;21.800000 30.960000 3;30.960000 45 2;45 90 1\", r\"C:\\Users\\rosem\\Documents\\ArcGIS\\Projects\\Lab2Part2\\Lab2Part2.gdb\\Reclass_Slop3\", \"DATA\")"
   ]
  },
  {
   "cell_type": "code",
   "execution_count": null,
   "metadata": {},
   "outputs": [],
   "source": [
    "arcpy.ddd.Reclassify(\"Slope_dem_1m5\", \"VALUE\", \"0 1.720000 11;1.720000 3.430000 10;3.430000 5.710000 9;5.710000 8.530000 8;8.530000 11.300000 7;11.300000 14.040000 6;14.040000 16.700000 5;16.700000 21.800000 4;21.800000 30.960000 3;30.960000 45 2;45 90 1\", r\"C:\\Users\\rosem\\Documents\\ArcGIS\\Projects\\Lab2Part2\\Lab2Part2.gdb\\Reclass_Slop4\", \"DATA\")"
   ]
  },
  {
   "cell_type": "code",
   "execution_count": null,
   "metadata": {},
   "outputs": [],
   "source": [
    "arcpy.ddd.Reclassify(\"Slope_dem_1m6\", \"VALUE\", \"0 1.720000 11;1.720000 3.430000 10;3.430000 5.710000 9;5.710000 8.530000 8;8.530000 11.300000 7;11.300000 14.040000 6;14.040000 16.700000 5;16.700000 21.800000 4;21.800000 30.960000 3;30.960000 45 2;45 90 1\", r\"C:\\Users\\rosem\\Documents\\ArcGIS\\Projects\\Lab2Part2\\Lab2Part2.gdb\\Reclass_Slop5\", \"DATA\")"
   ]
  },
  {
   "cell_type": "code",
   "execution_count": null,
   "metadata": {},
   "outputs": [],
   "source": [
    "arcpy.ddd.Reclassify(\"Slope_dem_1m8\", \"VALUE\", \"0 1.720000 11;1.720000 3.430000 10;3.430000 5.710000 9;5.710000 8.530000 8;8.530000 11.300000 7;11.300000 14.040000 6;14.040000 16.700000 5;16.700000 21.800000 4;21.800000 30.960000 3;30.960000 45 2;45 90 1\", r\"C:\\Users\\rosem\\Documents\\ArcGIS\\Projects\\Lab2Part2\\Lab2Part2.gdb\\Reclass_Slop6\", \"DATA\")"
   ]
  },
  {
   "cell_type": "code",
   "execution_count": null,
   "metadata": {},
   "outputs": [],
   "source": [
    "arcpy.ddd.Reclassify(\"Slope_dem_1m9\", \"VALUE\", \"0 1.720000 11;1.720000 3.430000 10;3.430000 5.710000 9;5.710000 8.530000 8;8.530000 11.300000 7;11.300000 14.040000 6;14.040000 16.700000 5;16.700000 21.800000 4;21.800000 30.960000 3;30.960000 45 2;45 90 1\", r\"C:\\Users\\rosem\\Documents\\ArcGIS\\Projects\\Lab2Part2\\Lab2Part2.gdb\\Reclass_Slop7\", \"DATA\")"
   ]
  },
  {
   "cell_type": "code",
   "execution_count": null,
   "metadata": {},
   "outputs": [],
   "source": [
    "arcpy.ddd.Reclassify(\"Slope_dem_110\", \"VALUE\", \"0 1.720000 11;1.720000 3.430000 10;3.430000 5.710000 9;5.710000 8.530000 8;8.530000 11.300000 7;11.300000 14.040000 6;14.040000 16.700000 5;16.700000 21.800000 4;21.800000 30.960000 3;30.960000 45 2;45 90 1\", r\"C:\\Users\\rosem\\Documents\\ArcGIS\\Projects\\Lab2Part2\\Lab2Part2.gdb\\Reclass_Slop8\", \"DATA\")"
   ]
  },
  {
   "cell_type": "code",
   "execution_count": null,
   "metadata": {},
   "outputs": [],
   "source": [
    "output_raster = arcpy.ia.RasterCalculator(' \"Reclass_Slop2\" + \"Reclass_NewS1\"'); output_raster.save(r\"c:\\Users\\rosem\\documents\\ArcGIS\\Projects\\lab2part2\\lab2part2.gdb\\Raster1\")"
   ]
  },
  {
   "cell_type": "code",
   "execution_count": null,
   "metadata": {},
   "outputs": [],
   "source": [
    "output_raster = arcpy.ia.RasterCalculator(' \"Reclass_Slop3\" + \"Reclass_NewS1\"'); output_raster.save(r\"c:\\Users\\rosem\\documents\\ArcGIS\\Projects\\lab2part2\\lab2part2.gdb\\Raster2\")"
   ]
  },
  {
   "cell_type": "code",
   "execution_count": null,
   "metadata": {},
   "outputs": [],
   "source": [
    "output_raster = arcpy.ia.RasterCalculator(' \"Reclass_Slop4\" + \"Reclass_NewS1\"'); output_raster.save(r\"c:\\Users\\rosem\\documents\\ArcGIS\\Projects\\lab2part2\\lab2part2.gdb\\Raster3\")"
   ]
  },
  {
   "cell_type": "code",
   "execution_count": null,
   "metadata": {},
   "outputs": [],
   "source": [
    "output_raster = arcpy.ia.RasterCalculator(' \"Reclass_Slop5\" + \"Reclass_NewS1\"'); output_raster.save(r\"c:\\Users\\rosem\\documents\\ArcGIS\\Projects\\lab2part2\\lab2part2.gdb\\Raster4\")"
   ]
  },
  {
   "cell_type": "code",
   "execution_count": null,
   "metadata": {},
   "outputs": [],
   "source": [
    "output_raster = arcpy.ia.RasterCalculator(' \"Reclass_Slop6\" + \"Reclass_NewS1\"'); output_raster.save(r\"c:\\Users\\rosem\\documents\\ArcGIS\\Projects\\lab2part2\\lab2part2.gdb\\Raster5\")"
   ]
  },
  {
   "cell_type": "code",
   "execution_count": null,
   "metadata": {},
   "outputs": [],
   "source": [
    "output_raster = arcpy.ia.RasterCalculator(' \"Reclass_Slop7\" + \"Reclass_NewS1\"'); output_raster.save(r\"c:\\Users\\rosem\\documents\\ArcGIS\\Projects\\lab2part2\\lab2part2.gdb\\Raster6\")"
   ]
  },
  {
   "cell_type": "code",
   "execution_count": null,
   "metadata": {},
   "outputs": [],
   "source": [
    "output_raster = arcpy.ia.RasterCalculator(' \"Reclass_Slop8\" + \"Reclass_NewS1\"'); output_raster.save(r\"c:\\Users\\rosem\\documents\\ArcGIS\\Projects\\lab2part2\\lab2part2.gdb\\Raster7\")"
   ]
  },
  {
   "cell_type": "code",
   "execution_count": null,
   "metadata": {},
   "outputs": [],
   "source": [
    "with arcpy.EnvManager(outputCoordinateSystem=\"PROJCS['WGS_1984_Web_Mercator_Auxiliary_Sphere',GEOGCS['GCS_WGS_1984',DATUM['D_WGS_1984',SPHEROID['WGS_1984',6378137.0,298.257223563]],PRIMEM['Greenwich',0.0],UNIT['Degree',0.0174532925199433]],PROJECTION['Mercator_Auxiliary_Sphere'],PARAMETER['False_Easting',0.0],PARAMETER['False_Northing',0.0],PARAMETER['Central_Meridian',0.0],PARAMETER['Standard_Parallel_1',0.0],PARAMETER['Auxiliary_Sphere_Type',0.0],UNIT['Meter',1.0]]\"):\n",
    "    arcpy.management.CreateFeatureDataset(r\"C:\\Users\\rosem\\Documents\\ArcGIS\\Projects\\Lab2Part2\\Lab2Part2.gdb\", \"PointsFolder\", \"PROJCS['WGS_1984_Web_Mercator_Auxiliary_Sphere',GEOGCS['GCS_WGS_1984',DATUM['D_WGS_1984',SPHEROID['WGS_1984',6378137.0,298.257223563]],PRIMEM['Greenwich',0.0],UNIT['Degree',0.0174532925199433]],PROJECTION['Mercator_Auxiliary_Sphere'],PARAMETER['False_Easting',0.0],PARAMETER['False_Northing',0.0],PARAMETER['Central_Meridian',0.0],PARAMETER['Standard_Parallel_1',0.0],PARAMETER['Auxiliary_Sphere_Type',0.0],UNIT['Meter',1.0]];-20037700 -30241100 10000;#;#;0.001;#;#;IsHighPrecision\")"
   ]
  }
 ],
 "metadata": {
  "kernelspec": {
   "display_name": "ArcGISPro",
   "language": "Python",
   "name": "python3"
  },
  "language_info": {
   "file_extension": ".py",
   "name": "python",
   "version": "3"
  }
 },
 "nbformat": 4,
 "nbformat_minor": 2
}
