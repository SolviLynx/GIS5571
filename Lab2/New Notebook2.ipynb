{
 "cells": [
  {
   "cell_type": "code",
   "execution_count": 1,
   "metadata": {},
   "outputs": [],
   "source": [
    "import arcpy"
   ]
  },
  {
   "cell_type": "code",
   "execution_count": null,
   "metadata": {},
   "outputs": [],
   "source": [
    "arcpy.management.CreateMosaicDataset(r\"C:\\Users\\rosem\\Documents\\ArcGIS\\Projects\\5571Lab2.0\\5571Lab2.gdb\", \"NewMosaic\", \"PROJCS['WGS_1984_Web_Mercator_Auxiliary_Sphere',GEOGCS['GCS_WGS_1984',DATUM['D_WGS_1984',SPHEROID['WGS_1984',6378137.0,298.257223563]],PRIMEM['Greenwich',0.0],UNIT['Degree',0.0174532925199433]],PROJECTION['Mercator_Auxiliary_Sphere'],PARAMETER['False_Easting',0.0],PARAMETER['False_Northing',0.0],PARAMETER['Central_Meridian',0.0],PARAMETER['Standard_Parallel_1',0.0],PARAMETER['Auxiliary_Sphere_Type',0.0],UNIT['Meter',1.0]]\", None, '', \"NONE\", None)"
   ]
  },
  {
   "cell_type": "code",
   "execution_count": null,
   "metadata": {},
   "outputs": [],
   "source": [
    "arcpy.management.AddRastersToMosaicDataset(\"NewMosaic\", \"Raster Dataset\", r\"C:\\Users\\rosem\\Downloads\\PRISM_ppt_30yr_normal_4kmM2_all_bil\\PRISM_ppt_30yr_normal_4kmM2_01_bil.bil;C:\\Users\\rosem\\Downloads\\PRISM_ppt_30yr_normal_4kmM2_all_bil\\PRISM_ppt_30yr_normal_4kmM2_02_bil.bil;C:\\Users\\rosem\\Downloads\\PRISM_ppt_30yr_normal_4kmM2_all_bil\\PRISM_ppt_30yr_normal_4kmM2_03_bil.bil;C:\\Users\\rosem\\Downloads\\PRISM_ppt_30yr_normal_4kmM2_all_bil\\PRISM_ppt_30yr_normal_4kmM2_05_bil.bil;C:\\Users\\rosem\\Downloads\\PRISM_ppt_30yr_normal_4kmM2_all_bil\\PRISM_ppt_30yr_normal_4kmM2_04_bil.bil;C:\\Users\\rosem\\Downloads\\PRISM_ppt_30yr_normal_4kmM2_all_bil\\PRISM_ppt_30yr_normal_4kmM2_06_bil.bil;C:\\Users\\rosem\\Downloads\\PRISM_ppt_30yr_normal_4kmM2_all_bil\\PRISM_ppt_30yr_normal_4kmM2_07_bil.bil;C:\\Users\\rosem\\Downloads\\PRISM_ppt_30yr_normal_4kmM2_all_bil\\PRISM_ppt_30yr_normal_4kmM2_08_bil.bil;C:\\Users\\rosem\\Downloads\\PRISM_ppt_30yr_normal_4kmM2_all_bil\\PRISM_ppt_30yr_normal_4kmM2_09_bil.bil;C:\\Users\\rosem\\Downloads\\PRISM_ppt_30yr_normal_4kmM2_all_bil\\PRISM_ppt_30yr_normal_4kmM2_11_bil.bil;C:\\Users\\rosem\\Downloads\\PRISM_ppt_30yr_normal_4kmM2_all_bil\\PRISM_ppt_30yr_normal_4kmM2_10_bil.bil;C:\\Users\\rosem\\Downloads\\PRISM_ppt_30yr_normal_4kmM2_all_bil\\PRISM_ppt_30yr_normal_4kmM2_12_bil.bil\", \"UPDATE_CELL_SIZES\", \"UPDATE_BOUNDARY\", \"NO_OVERVIEWS\", None, 0, 1500, None, '', \"SUBFOLDERS\", \"ALLOW_DUPLICATES\", \"NO_PYRAMIDS\", \"NO_STATISTICS\", \"NO_THUMBNAILS\", '', \"NO_FORCE_SPATIAL_REFERENCE\", \"NO_STATISTICS\", None, \"NO_PIXEL_CACHE\", r\"C:\\Users\\rosem\\AppData\\Local\\ESRI\\rasterproxies\\NewMosaic\")"
   ]
  },
  {
   "cell_type": "code",
   "execution_count": null,
   "metadata": {},
   "outputs": [],
   "source": [
    "arcpy.md.BuildMultidimensionalInfo(\"NewMosaic\", \"Name\", \"MaxPS # #\", \"PRISM_ppt_30yr_normal_4kmM2_01_bil # #;PRISM_ppt_30yr_normal_4kmM2_02_bil # #;PRISM_ppt_30yr_normal_4kmM2_03_bil # #;PRISM_ppt_30yr_normal_4kmM2_04_bil # #;PRISM_ppt_30yr_normal_4kmM2_05_bil # #;PRISM_ppt_30yr_normal_4kmM2_06_bil # #;PRISM_ppt_30yr_normal_4kmM2_07_bil # #;PRISM_ppt_30yr_normal_4kmM2_08_bil # #;PRISM_ppt_30yr_normal_4kmM2_09_bil # #;PRISM_ppt_30yr_normal_4kmM2_10_bil # #;PRISM_ppt_30yr_normal_4kmM2_11_bil # #;PRISM_ppt_30yr_normal_4kmM2_12_bil # #\")"
   ]
  }
 ],
 "metadata": {
  "kernelspec": {
   "display_name": "ArcGISPro",
   "language": "Python",
   "name": "python3"
  },
  "language_info": {
   "file_extension": ".py",
   "name": "python",
   "version": "3"
  }
 },
 "nbformat": 4,
 "nbformat_minor": 2
}
