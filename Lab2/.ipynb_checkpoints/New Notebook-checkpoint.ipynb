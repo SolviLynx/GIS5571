{
 "cells": [
  {
   "cell_type": "code",
   "execution_count": 1,
   "metadata": {
    "scrolled": true
   },
   "outputs": [
    {
     "data": {
      "text/html": [
       "<h2>Output</h2>a Layer object<h2>Messages</h2>Start Time: Wednesday, October 27, 2021 15:32:57<br/>Succeeded at Wednesday, October 27, 2021 15:32:57 (Elapsed Time: 0.07 seconds)<br/><style>.rendered_html td, .rendered_html th {text-align: left;}.rendered_html tbody {border: 1px solid black;}</style>"
      ],
      "text/plain": [
       "<Result '4342-12-05_LasDataset'>"
      ]
     },
     "execution_count": 1,
     "metadata": {},
     "output_type": "execute_result"
    }
   ],
   "source": [
    "arcpy.management.MakeLasDatasetLayer(r\"C:\\Users\\rosem\\Downloads\\4342-12-05.las\", \"4342-12-05_LasDataset\", None, None, \"INCLUDE_UNFLAGGED\", \"INCLUDE_SYNTHETIC\", \"INCLUDE_KEYPOINT\", \"EXCLUDE_WITHHELD\", None, \"INCLUDE_OVERLAP\")"
   ]
  },
  {
   "cell_type": "code",
   "execution_count": null,
   "metadata": {},
   "outputs": [],
   "source": [
    "with arcpy.EnvManager(scratchWorkspace=r\"C:\\Users\\rosem\\Documents\\ArcGIS\\Projects\\GIS5571Lab2\\GIS5571Lab2.gdb\", workspace=r\"C:\\Users\\rosem\\Documents\\ArcGIS\\Projects\\GIS5571Lab2\\GIS5571Lab2.gdb\"):\n",
    "    arcpy.conversion.LasDatasetToRaster(\"4342-12-05_LasDataset\", r\"c:\\Users\\rosem\\documents\\ArcGIS\\Projects\\gis5571lab2\\gis5571lab2.gdb\\Las_DEM\", \"ELEVATION\", \"BINNING AVERAGE LINEAR\", \"FLOAT\", \"CELLSIZE\", 10, 1)"
   ]
  },
  {
   "cell_type": "code",
   "execution_count": 2,
   "metadata": {},
   "outputs": [
    {
     "data": {
      "text/html": [
       "<h2>Output</h2>C:\\Users\\rosem\\Documents\\ArcGIS\\Projects\\GIS5571Lab2\\Las_TIN<h2>Messages</h2>Start Time: Wednesday, October 27, 2021 16:15:16<br/>Succeeded at Wednesday, October 27, 2021 16:15:38 (Elapsed Time: 21.50 seconds)<br/><style>.rendered_html td, .rendered_html th {text-align: left;}.rendered_html tbody {border: 1px solid black;}</style>"
      ],
      "text/plain": [
       "<Result 'C:\\\\Users\\\\rosem\\\\Documents\\\\ArcGIS\\\\Projects\\\\GIS5571Lab2\\\\Las_TIN'>"
      ]
     },
     "execution_count": 2,
     "metadata": {},
     "output_type": "execute_result"
    }
   ],
   "source": [
    "arcpy.ddd.LasDatasetToTin(\"4342-12-05_LasDataset\", r\"C:\\Users\\rosem\\Documents\\ArcGIS\\Projects\\GIS5571Lab2\\Las_TIN\", \"RANDOM\", \"PERCENT\", 75, 50000000, 1, \"CLIP\")"
   ]
  },
  {
   "cell_type": "code",
   "execution_count": 3,
   "metadata": {},
   "outputs": [
    {
     "ename": "IndexError",
     "evalue": "list index out of range",
     "output_type": "error",
     "traceback": [
      "\u001b[0;31m---------------------------------------------------------------------------\u001b[0m\n\u001b[0;31mIndexError\u001b[0m                                Traceback (most recent call last)",
      "In  \u001b[0;34m[3]\u001b[0m:\nLine \u001b[0;34m3\u001b[0m:     lyt = aprx.listLayouts(\u001b[33m\"\u001b[39;49;00m\u001b[33mLasDEM_Layout\u001b[39;49;00m\u001b[33m\"\u001b[39;49;00m)[\u001b[34m0\u001b[39;49;00m]\n",
      "\u001b[0;31mIndexError\u001b[0m: list index out of range\n\u001b[0;31m---------------------------------------------------------------------------\u001b[0m"
     ]
    }
   ],
   "source": [
    "import arcpy\n",
    "aprx = arcpy.mp.ArcGISProject(r\"C:\\Users\\rosem\\Documents\\ArcGIS\\Projects\\GIS5571Lab2\\GIS5571Lab2.aprx\")\n",
    "lyt = aprx.listLayouts(\"LasDEM_Layout\")[0]\n",
    "lyt.exportToPDF(r\"C:\\Users\\rosem\\Documents\\ArcGIS\\Projects\\GIS5571Lab2\\Layouts\\LasDEM_Layout.pdf\", resolution = 150)"
   ]
  },
  {
   "cell_type": "code",
   "execution_count": null,
   "metadata": {},
   "outputs": [],
   "source": [
    "lyt2 = aprx.listLayouts(\"LasTIN_Layout\")[0]\n",
    "lyt2.exportToPDF(r\"C:\\Users\\rosem\\Documents\\ArcGIS\\Projects\\GIS5571Lab2\\Layouts\\LasTIN_Layout.pdf\", resolution = 150)"
   ]
  }
 ],
 "metadata": {
  "kernelspec": {
   "display_name": "ArcGISPro",
   "language": "Python",
   "name": "python3"
  },
  "language_info": {
   "file_extension": ".py",
   "name": "python",
   "version": "3"
  }
 },
 "nbformat": 4,
 "nbformat_minor": 2
}
