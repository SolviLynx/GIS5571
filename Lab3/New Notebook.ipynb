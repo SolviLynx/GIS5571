{
 "cells": [
  {
   "cell_type": "code",
   "execution_count": null,
   "metadata": {},
   "outputs": [],
   "source": [
    "import arcpy"
   ]
  },
  {
   "cell_type": "code",
   "execution_count": null,
   "metadata": {},
   "outputs": [],
   "source": [
    "arcpy.management.MosaicToNewRaster(\"Reclass_Slop2;Reclass_Slop4;Reclass_Slop5;Reclass_Slop6;Reclass_Slop7;Reclass_Slop8\", r\"C:\\Users\\rosem\\Documents\\ArcGIS\\Projects\\Lab2Part2\\Lab2Part2.gdb\", \"RasterName\", None, \"8_BIT_UNSIGNED\", None, 1, \"LAST\", \"FIRST\")"
   ]
  },
  {
   "cell_type": "code",
   "execution_count": null,
   "metadata": {},
   "outputs": [],
   "source": [
    "out_distance_raster = arcpy.sa.CostDistance(\"Points\", \"RasterName\", None, None, None, None, None, None, ''); out_distance_raster.save(r\"C:\\Users\\rosem\\Documents\\ArcGIS\\Projects\\Lab2Part2\\Lab2Part2.gdb\\CostDis_Poin1\")"
   ]
  },
  {
   "cell_type": "code",
   "execution_count": null,
   "metadata": {},
   "outputs": [],
   "source": [
    "out_backlink_raster = arcpy.sa.CostBackLink(\"Points\", \"RasterName\", None, None, None, None, None, None, ''); out_backlink_raster.save(r\"C:\\Users\\rosem\\Documents\\ArcGIS\\Projects\\Lab2Part2\\Lab2Part2.gdb\\CostBac_Poin1\")"
   ]
  },
  {
   "cell_type": "code",
   "execution_count": null,
   "metadata": {},
   "outputs": [],
   "source": [
    "out_raster = arcpy.sa.CostPath(\"Points\", \"CostDis_Poin1\", \"CostBac_Poin1\", \"EACH_CELL\", \"OBJECTID\", \"INPUT_RANGE\"); out_raster.save(r\"C:\\Users\\rosem\\Documents\\ArcGIS\\Projects\\Lab2Part2\\Lab2Part2.gdb\\CostPat_Poin3\")"
   ]
  }
 ],
 "metadata": {
  "kernelspec": {
   "display_name": "ArcGISPro",
   "language": "Python",
   "name": "python3"
  },
  "language_info": {
   "file_extension": ".py",
   "name": "python",
   "version": "3"
  }
 },
 "nbformat": 4,
 "nbformat_minor": 2
}
