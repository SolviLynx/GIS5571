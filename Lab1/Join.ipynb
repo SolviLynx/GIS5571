{
 "cells": [
  {
   "cell_type": "code",
   "execution_count": 415,
   "metadata": {},
   "outputs": [],
   "source": [
    "import arcpy"
   ]
  },
  {
   "cell_type": "code",
   "execution_count": null,
   "metadata": {},
   "outputs": [],
   "source": [
    "arcpy.management.Project(\"TransitStopsItineraryChange\", r\"C:\\Users\\rosem\\Documents\\ArcGIS\\Projects\\GIS5571Lab1\\GIS5571Lab1.gdb\\TransitStopsItineraryChange_\", \"PROJCS['WGS_1984_Web_Mercator_Auxiliary_Sphere',GEOGCS['GCS_WGS_1984',DATUM['D_WGS_1984',SPHEROID['WGS_1984',6378137.0,298.257223563]],PRIMEM['Greenwich',0.0],UNIT['Degree',0.0174532925199433]],PROJECTION['Mercator_Auxiliary_Sphere'],PARAMETER['False_Easting',0.0],PARAMETER['False_Northing',0.0],PARAMETER['Central_Meridian',0.0],PARAMETER['Standard_Parallel_1',0.0],PARAMETER['Auxiliary_Sphere_Type',0.0],UNIT['Meter',1.0]]\", \"WGS_1984_(ITRF00)_To_NAD_1983\", \"PROJCS['NAD_1983_UTM_Zone_15N',GEOGCS['GCS_North_American_1983',DATUM['D_North_American_1983',SPHEROID['GRS_1980',6378137.0,298.257222101]],PRIMEM['Greenwich',0.0],UNIT['Degree',0.0174532925199433]],PROJECTION['Transverse_Mercator'],PARAMETER['False_Easting',500000.0],PARAMETER['False_Northing',0.0],PARAMETER['Central_Meridian',-93.0],PARAMETER['Scale_Factor',0.9996],PARAMETER['Latitude_Of_Origin',0.0],UNIT['Meter',1.0]]\", \"NO_PRESERVE_SHAPE\", None, \"NO_VERTICAL\")"
   ]
  },
  {
   "cell_type": "code",
   "execution_count": null,
   "metadata": {},
   "outputs": [],
   "source": [
    "arcpy.management.Project(\"SupportFacilities\", r\"C:\\Users\\rosem\\Documents\\ArcGIS\\Projects\\GIS5571Lab1\\GIS5571Lab1.gdb\\Support\", \"PROJCS['WGS_1984_Web_Mercator_Auxiliary_Sphere',GEOGCS['GCS_WGS_1984',DATUM['D_WGS_1984',SPHEROID['WGS_1984',6378137.0,298.257223563]],PRIMEM['Greenwich',0.0],UNIT['Degree',0.0174532925199433]],PROJECTION['Mercator_Auxiliary_Sphere'],PARAMETER['False_Easting',0.0],PARAMETER['False_Northing',0.0],PARAMETER['Central_Meridian',0.0],PARAMETER['Standard_Parallel_1',0.0],PARAMETER['Auxiliary_Sphere_Type',0.0],UNIT['Meter',1.0]]\", \"WGS_1984_(ITRF00)_To_NAD_1983\", \"PROJCS['NAD_1983_UTM_Zone_15N',GEOGCS['GCS_North_American_1983',DATUM['D_North_American_1983',SPHEROID['GRS_1980',6378137.0,298.257222101]],PRIMEM['Greenwich',0.0],UNIT['Degree',0.0174532925199433]],PROJECTION['Transverse_Mercator'],PARAMETER['False_Easting',500000.0],PARAMETER['False_Northing',0.0],PARAMETER['Central_Meridian',-93.0],PARAMETER['Scale_Factor',0.9996],PARAMETER['Latitude_Of_Origin',0.0],UNIT['Meter',1.0]]\", \"NO_PRESERVE_SHAPE\", None, \"NO_VERTICAL\")"
   ]
  },
  {
   "cell_type": "code",
   "execution_count": null,
   "metadata": {},
   "outputs": [],
   "source": [
    "arcpy.analysis.SpatialJoin(\"Support\", \"TransitStopsItineraryChange_\", r\"C:\\Users\\rosem\\Documents\\ArcGIS\\Projects\\GIS5571Lab1\\GIS5571Lab1.gdb\\Support_SpatialJoinMiles\", \"JOIN_ONE_TO_ONE\", \"KEEP_ALL\", 'SUPPORTID \"SUPPORTID\" true true false 8 Double 0 0,First,#,Support,SUPPORTID,-1,-1;ACTIVE \"ACTIVE\" true true false 3 Text 0 0,First,#,Support,ACTIVE,0,3;TCODE \"TCODE\" true true false 10 Text 0 0,First,#,Support,TCODE,0,10;FAC_TYPE \"FAC_TYPE\" true true false 50 Text 0 0,First,#,Support,FAC_TYPE,0,50;NAME \"NAME\" true true false 50 Text 0 0,First,#,Support,NAME,0,50;ADDRESS \"ADDRESS\" true true false 50 Text 0 0,First,#,Support,ADDRESS,0,50;CITY \"CITY\" true true false 27 Text 0 0,First,#,Support,CITY,0,27;ZIP \"ZIP\" true true false 6 Text 0 0,First,#,Support,ZIP,0,6;STATE \"STATE\" true true false 5 Text 0 0,First,#,Support,STATE,0,5;MCOWNED \"MCOWNED\" true true false 3 Text 0 0,First,#,Support,MCOWNED,0,3;unit \"unit\" true true false 15 Text 0 0,First,#,Support,unit,0,15;site_id \"site_id\" true true false 4 Long 0 0,First,#,TransitStopsItineraryChange_,site_id,-1,-1;site_on \"site_on\" true true false 250 Text 0 0,First,#,TransitStopsItineraryChange_,site_on,0,250;site_at \"site_at\" true true false 250 Text 0 0,First,#,TransitStopsItineraryChange_,site_at,0,250;site_desc \"site_desc\" true true false 254 Text 0 0,First,#,TransitStopsItineraryChange_,site_desc,0,254;corn_desc \"corn_desc\" true true false 50 Text 0 0,First,#,TransitStopsItineraryChange_,corn_desc,0,50;node_id \"node_id\" true true false 5 Text 0 0,First,#,TransitStopsItineraryChange_,node_id,0,5;city_1 \"city\" true true false 50 Text 0 0,First,#,TransitStopsItineraryChange_,city,0,50;effective_ \"effective_\" true true false 8 Date 0 0,First,#,TransitStopsItineraryChange_,effective_,-1,-1;r_flag \"r_flag\" true true false 1 Text 0 0,First,#,TransitStopsItineraryChange_,r_flag,0,1;a_flag \"a_flag\" true true false 1 Text 0 0,First,#,TransitStopsItineraryChange_,a_flag,0,1', \"WITHIN_A_DISTANCE\", \"1 Miles\", '')"
   ]
  },
  {
   "cell_type": "code",
   "execution_count": null,
   "metadata": {},
   "outputs": [],
   "source": []
  }
 ],
 "metadata": {
  "kernelspec": {
   "display_name": "ArcGISPro",
   "language": "Python",
   "name": "python3"
  },
  "language_info": {
   "file_extension": ".py",
   "name": "python",
   "version": "3"
  }
 },
 "nbformat": 4,
 "nbformat_minor": 2
}
