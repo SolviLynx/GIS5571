{
 "cells": [
  {
   "cell_type": "code",
   "execution_count": null,
   "metadata": {},
   "outputs": [],
   "source": [
    "import arcpy\n",
    "\n",
    "\n",
    "arcpy.conversion.PolygonToRaster(\"Minneapolis_Parcels_Pairwise\", \"TAXABLE_VA\", r\"C:\\Users\\rosem\\Documents\\ArcGIS\\Projects\\5571FinalProject\\5571FinalProject.gdb\\Minneapolis_Parcels_Pairwise_PolygonToRaster2\", \"CELL_CENTER\", \"NONE\", 1, \"BUILD\")\n",
    "arcpy.conversion.PolygonToRaster(\"Minneapolis_BuiltYear_Pairwi\", \"BUILD_YR\", r\"C:\\Users\\rosem\\Documents\\ArcGIS\\Projects\\5571FinalProject\\5571FinalProject.gdb\\Minneapolis_BuiltYear_Pairwi_PolygonToRaster\", \"CELL_CENTER\", \"NONE\", 1, \"BUILD\")\n",
    "out_raster = arcpy.sa.Reclassify(\"Reclass_Built2\", \"Value\", \"1 4;2 3;3 2;4 1\", \"DATA\"); out_raster.save(r\"C:\\Users\\rosem\\Documents\\ArcGIS\\Projects\\5571FinalProject\\5571FinalProject.gdb\\Reclass_Built3\")\n",
    "out_raster = arcpy.sa.Reclassify(\"Minneapolis_Parcels_Pairwise_PolygonToRaster2\", \"Value\", \"0 35000 NODATA;35001 100000 6;100001 200000 4;200001 400000 3;400001 750000 2;750001 10000000 1\", \"NODATA\"); out_raster.save(r\"C:\\Users\\rosem\\Documents\\ArcGIS\\Projects\\5571FinalProject\\5571FinalProject.gdb\\Reclass_Taxed\")"
   ]
  }
 ],
 "metadata": {
  "kernelspec": {
   "display_name": "ArcGISPro",
   "language": "Python",
   "name": "python3"
  },
  "language_info": {
   "file_extension": ".py",
   "name": "python",
   "version": "3"
  }
 },
 "nbformat": 4,
 "nbformat_minor": 2
}
